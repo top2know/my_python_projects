{
 "cells": [
  {
   "cell_type": "markdown",
   "metadata": {},
   "source": [
    "<center><img src=\"img/logo_hse_black.jpg\"></center>\n",
    "\n",
    "<h1><center>Data Analysis</center></h1>\n",
    "<h2><center>Homework: PCA and Features Selection </center></h2>"
   ]
  },
  {
   "cell_type": "code",
   "execution_count": 1,
   "metadata": {},
   "outputs": [],
   "source": [
    "%matplotlib inline\n",
    "\n",
    "import numpy as np\n",
    "import pandas as pd\n",
    "import matplotlib.pyplot as plt"
   ]
  },
  {
   "cell_type": "markdown",
   "metadata": {},
   "source": [
    "# Gender Recognition by Voice\n",
    "\n",
    "This database was created to identify a voice as male or female, based upon acoustic properties of the voice and speech. The dataset consists of 3,168 recorded voice samples, collected from male and female speakers. The voice samples are pre-processed by acoustic analysis in R using the seewave and tuneR packages, with an analyzed frequency range of 0hz-280hz (human vocal range).\n",
    "\n",
    "The following acoustic properties of each voice are measured and included within the CSV:\n",
    "\n",
    "* meanfreq: mean frequency (in kHz)\n",
    "* sd: standard deviation of frequency\n",
    "* median: median frequency (in kHz)\n",
    "* Q25: first quantile (in kHz)\n",
    "* Q75: third quantile (in kHz)\n",
    "* IQR: interquantile range (in kHz)\n",
    "* skew: skewness (see note in specprop description)\n",
    "* kurt: kurtosis (see note in specprop description)\n",
    "* sp.ent: spectral entropy\n",
    "* sfm: spectral flatness\n",
    "* mode: mode frequency\n",
    "* centroid: frequency centroid (see specprop)\n",
    "* peakf: peak frequency (frequency with highest energy)\n",
    "* meanfun: average of fundamental frequency measured across acoustic signal\n",
    "* minfun: minimum fundamental frequency measured across acoustic signal\n",
    "* maxfun: maximum fundamental frequency measured across acoustic signal\n",
    "* meandom: average of dominant frequency measured across acoustic signal\n",
    "* mindom: minimum of dominant frequency measured across acoustic signal\n",
    "* maxdom: maximum of dominant frequency measured across acoustic signal\n",
    "* dfrange: range of dominant frequency measured across acoustic signal\n",
    "* modindx: modulation index. Calculated as the accumulated absolute difference between adjacent measurements of fundamental frequencies divided by the frequency range\n",
    "* label: male or female"
   ]
  },
  {
   "cell_type": "code",
   "execution_count": 2,
   "metadata": {},
   "outputs": [
    {
     "name": "stdout",
     "output_type": "stream",
     "text": [
      "DataFrame shape:  (3168, 21)\n"
     ]
    },
    {
     "data": {
      "text/html": [
       "<div>\n",
       "<style scoped>\n",
       "    .dataframe tbody tr th:only-of-type {\n",
       "        vertical-align: middle;\n",
       "    }\n",
       "\n",
       "    .dataframe tbody tr th {\n",
       "        vertical-align: top;\n",
       "    }\n",
       "\n",
       "    .dataframe thead th {\n",
       "        text-align: right;\n",
       "    }\n",
       "</style>\n",
       "<table border=\"1\" class=\"dataframe\">\n",
       "  <thead>\n",
       "    <tr style=\"text-align: right;\">\n",
       "      <th></th>\n",
       "      <th>meanfreq</th>\n",
       "      <th>sd</th>\n",
       "      <th>median</th>\n",
       "      <th>Q25</th>\n",
       "      <th>Q75</th>\n",
       "      <th>IQR</th>\n",
       "      <th>skew</th>\n",
       "      <th>kurt</th>\n",
       "      <th>sp.ent</th>\n",
       "      <th>sfm</th>\n",
       "      <th>...</th>\n",
       "      <th>centroid</th>\n",
       "      <th>meanfun</th>\n",
       "      <th>minfun</th>\n",
       "      <th>maxfun</th>\n",
       "      <th>meandom</th>\n",
       "      <th>mindom</th>\n",
       "      <th>maxdom</th>\n",
       "      <th>dfrange</th>\n",
       "      <th>modindx</th>\n",
       "      <th>label</th>\n",
       "    </tr>\n",
       "  </thead>\n",
       "  <tbody>\n",
       "    <tr>\n",
       "      <th>0</th>\n",
       "      <td>0.059781</td>\n",
       "      <td>0.064241</td>\n",
       "      <td>0.032027</td>\n",
       "      <td>0.015071</td>\n",
       "      <td>0.090193</td>\n",
       "      <td>0.075122</td>\n",
       "      <td>12.863462</td>\n",
       "      <td>274.402906</td>\n",
       "      <td>0.893369</td>\n",
       "      <td>0.491918</td>\n",
       "      <td>...</td>\n",
       "      <td>0.059781</td>\n",
       "      <td>0.084279</td>\n",
       "      <td>0.015702</td>\n",
       "      <td>0.275862</td>\n",
       "      <td>0.007812</td>\n",
       "      <td>0.007812</td>\n",
       "      <td>0.007812</td>\n",
       "      <td>0.000000</td>\n",
       "      <td>0.000000</td>\n",
       "      <td>male</td>\n",
       "    </tr>\n",
       "    <tr>\n",
       "      <th>1</th>\n",
       "      <td>0.066009</td>\n",
       "      <td>0.067310</td>\n",
       "      <td>0.040229</td>\n",
       "      <td>0.019414</td>\n",
       "      <td>0.092666</td>\n",
       "      <td>0.073252</td>\n",
       "      <td>22.423285</td>\n",
       "      <td>634.613855</td>\n",
       "      <td>0.892193</td>\n",
       "      <td>0.513724</td>\n",
       "      <td>...</td>\n",
       "      <td>0.066009</td>\n",
       "      <td>0.107937</td>\n",
       "      <td>0.015826</td>\n",
       "      <td>0.250000</td>\n",
       "      <td>0.009014</td>\n",
       "      <td>0.007812</td>\n",
       "      <td>0.054688</td>\n",
       "      <td>0.046875</td>\n",
       "      <td>0.052632</td>\n",
       "      <td>male</td>\n",
       "    </tr>\n",
       "    <tr>\n",
       "      <th>2</th>\n",
       "      <td>0.077316</td>\n",
       "      <td>0.083829</td>\n",
       "      <td>0.036718</td>\n",
       "      <td>0.008701</td>\n",
       "      <td>0.131908</td>\n",
       "      <td>0.123207</td>\n",
       "      <td>30.757155</td>\n",
       "      <td>1024.927705</td>\n",
       "      <td>0.846389</td>\n",
       "      <td>0.478905</td>\n",
       "      <td>...</td>\n",
       "      <td>0.077316</td>\n",
       "      <td>0.098706</td>\n",
       "      <td>0.015656</td>\n",
       "      <td>0.271186</td>\n",
       "      <td>0.007990</td>\n",
       "      <td>0.007812</td>\n",
       "      <td>0.015625</td>\n",
       "      <td>0.007812</td>\n",
       "      <td>0.046512</td>\n",
       "      <td>male</td>\n",
       "    </tr>\n",
       "    <tr>\n",
       "      <th>3</th>\n",
       "      <td>0.151228</td>\n",
       "      <td>0.072111</td>\n",
       "      <td>0.158011</td>\n",
       "      <td>0.096582</td>\n",
       "      <td>0.207955</td>\n",
       "      <td>0.111374</td>\n",
       "      <td>1.232831</td>\n",
       "      <td>4.177296</td>\n",
       "      <td>0.963322</td>\n",
       "      <td>0.727232</td>\n",
       "      <td>...</td>\n",
       "      <td>0.151228</td>\n",
       "      <td>0.088965</td>\n",
       "      <td>0.017798</td>\n",
       "      <td>0.250000</td>\n",
       "      <td>0.201497</td>\n",
       "      <td>0.007812</td>\n",
       "      <td>0.562500</td>\n",
       "      <td>0.554688</td>\n",
       "      <td>0.247119</td>\n",
       "      <td>male</td>\n",
       "    </tr>\n",
       "    <tr>\n",
       "      <th>4</th>\n",
       "      <td>0.135120</td>\n",
       "      <td>0.079146</td>\n",
       "      <td>0.124656</td>\n",
       "      <td>0.078720</td>\n",
       "      <td>0.206045</td>\n",
       "      <td>0.127325</td>\n",
       "      <td>1.101174</td>\n",
       "      <td>4.333713</td>\n",
       "      <td>0.971955</td>\n",
       "      <td>0.783568</td>\n",
       "      <td>...</td>\n",
       "      <td>0.135120</td>\n",
       "      <td>0.106398</td>\n",
       "      <td>0.016931</td>\n",
       "      <td>0.266667</td>\n",
       "      <td>0.712812</td>\n",
       "      <td>0.007812</td>\n",
       "      <td>5.484375</td>\n",
       "      <td>5.476562</td>\n",
       "      <td>0.208274</td>\n",
       "      <td>male</td>\n",
       "    </tr>\n",
       "  </tbody>\n",
       "</table>\n",
       "<p>5 rows × 21 columns</p>\n",
       "</div>"
      ],
      "text/plain": [
       "   meanfreq        sd    median       Q25       Q75       IQR       skew  \\\n",
       "0  0.059781  0.064241  0.032027  0.015071  0.090193  0.075122  12.863462   \n",
       "1  0.066009  0.067310  0.040229  0.019414  0.092666  0.073252  22.423285   \n",
       "2  0.077316  0.083829  0.036718  0.008701  0.131908  0.123207  30.757155   \n",
       "3  0.151228  0.072111  0.158011  0.096582  0.207955  0.111374   1.232831   \n",
       "4  0.135120  0.079146  0.124656  0.078720  0.206045  0.127325   1.101174   \n",
       "\n",
       "          kurt    sp.ent       sfm  ...    centroid   meanfun    minfun  \\\n",
       "0   274.402906  0.893369  0.491918  ...    0.059781  0.084279  0.015702   \n",
       "1   634.613855  0.892193  0.513724  ...    0.066009  0.107937  0.015826   \n",
       "2  1024.927705  0.846389  0.478905  ...    0.077316  0.098706  0.015656   \n",
       "3     4.177296  0.963322  0.727232  ...    0.151228  0.088965  0.017798   \n",
       "4     4.333713  0.971955  0.783568  ...    0.135120  0.106398  0.016931   \n",
       "\n",
       "     maxfun   meandom    mindom    maxdom   dfrange   modindx  label  \n",
       "0  0.275862  0.007812  0.007812  0.007812  0.000000  0.000000   male  \n",
       "1  0.250000  0.009014  0.007812  0.054688  0.046875  0.052632   male  \n",
       "2  0.271186  0.007990  0.007812  0.015625  0.007812  0.046512   male  \n",
       "3  0.250000  0.201497  0.007812  0.562500  0.554688  0.247119   male  \n",
       "4  0.266667  0.712812  0.007812  5.484375  5.476562  0.208274   male  \n",
       "\n",
       "[5 rows x 21 columns]"
      ]
     },
     "execution_count": 2,
     "metadata": {},
     "output_type": "execute_result"
    }
   ],
   "source": [
    "# Read data sample\n",
    "data = pd.read_csv(\"data/voice.csv\")\n",
    "print(\"DataFrame shape: \", data.shape)\n",
    "data.head()"
   ]
  },
  {
   "cell_type": "markdown",
   "metadata": {},
   "source": [
    "## Data Preparation\n"
   ]
  },
  {
   "cell_type": "code",
   "execution_count": 3,
   "metadata": {},
   "outputs": [
    {
     "name": "stdout",
     "output_type": "stream",
     "text": [
      "Feature names:  Index(['meanfreq', 'sd', 'median', 'Q25', 'Q75', 'IQR', 'skew', 'kurt',\n",
      "       'sp.ent', 'sfm', 'mode', 'centroid', 'meanfun', 'minfun', 'maxfun',\n",
      "       'meandom', 'mindom', 'maxdom', 'dfrange', 'modindx'],\n",
      "      dtype='object')\n"
     ]
    }
   ],
   "source": [
    "# Get feature names\n",
    "feature_names = data.columns.drop(['label'])\n",
    "print(\"Feature names: \", feature_names)"
   ]
  },
  {
   "cell_type": "code",
   "execution_count": 4,
   "metadata": {},
   "outputs": [],
   "source": [
    "# Prepare X and y\n",
    "X = data[feature_names].values\n",
    "y = 1. * (data['label'].values == 'male')"
   ]
  },
  {
   "cell_type": "markdown",
   "metadata": {},
   "source": [
    "## Train / Test Split + Standardization\n",
    "\n",
    "We perform standartization to provide you possibility to use any classifier you know without any difficulties induced by feature scales. "
   ]
  },
  {
   "cell_type": "code",
   "execution_count": 5,
   "metadata": {},
   "outputs": [],
   "source": [
    "from sklearn.model_selection import train_test_split\n",
    "from sklearn.preprocessing import StandardScaler\n",
    "\n",
    "# Split data into train and test samples\n",
    "X_train, X_test, y_train, y_test = train_test_split(X, y, test_size=0.5, random_state=42)\n",
    "\n",
    "# Standardization\n",
    "ss = StandardScaler()\n",
    "ss.fit(X_train)\n",
    "\n",
    "X_train = ss.transform(X_train)\n",
    "X_test = ss.transform(X_test)"
   ]
  },
  {
   "cell_type": "markdown",
   "metadata": {},
   "source": [
    "## Classifier Selection\n",
    "\n",
    "Generally, tasks below can be done with any classifier, but we ask you to provide answers with Decision Tree classifier with the following hyperparameters (don't touch this):"
   ]
  },
  {
   "cell_type": "code",
   "execution_count": 6,
   "metadata": {},
   "outputs": [],
   "source": [
    "from sklearn.tree import DecisionTreeClassifier\n",
    "clf = DecisionTreeClassifier(criterion='gini', max_depth=5, random_state=42)"
   ]
  },
  {
   "cell_type": "markdown",
   "metadata": {},
   "source": [
    "# Task 1 (1 point)\n",
    "\n",
    "Find just **one** feature, that provides the best classification accuracy. What is the name of this feature?\n",
    "\n",
    "Hint: in **for** loop use one feature in the sample to train the classifier. Then, calculate the classification accuracy on the test sample."
   ]
  },
  {
   "cell_type": "code",
   "execution_count": 7,
   "metadata": {},
   "outputs": [
    {
     "name": "stdout",
     "output_type": "stream",
     "text": [
      "meanfreq : 0.6571969696969697\n",
      "sd : 0.8188131313131313\n",
      "median : 0.6142676767676768\n",
      "Q25 : 0.8636363636363636\n",
      "Q75 : 0.5340909090909091\n",
      "IQR : 0.9040404040404041\n",
      "skew : 0.6357323232323232\n",
      "kurt : 0.6016414141414141\n",
      "sp.ent : 0.7708333333333334\n",
      "sfm : 0.7241161616161617\n",
      "mode : 0.7190656565656566\n",
      "centroid : 0.6571969696969697\n",
      "meanfun : 0.9349747474747475\n",
      "minfun : 0.5593434343434344\n",
      "maxfun : 0.5397727272727273\n",
      "meandom : 0.61489898989899\n",
      "mindom : 0.625\n",
      "maxdom : 0.6433080808080808\n",
      "dfrange : 0.6313131313131313\n",
      "modindx : 0.51010101010101\n",
      "The best feature is meanfun\n"
     ]
    }
   ],
   "source": [
    "top_features = [0 for i in range(len(feature_names))]\n",
    "\n",
    "for i in range(len(feature_names)):\n",
    "    clf.fit(X_train[:, [i]], y_train)\n",
    "    top_features[i] = clf.score(X_test[:, [i]], y_test)\n",
    "    print(feature_names[i],\":\", top_features[i])\n",
    "\n",
    "print('The best feature is', feature_names[np.argmax(top_features)])   \n",
    "\n",
    "best_features = [np.argmax(top_features)]"
   ]
  },
  {
   "cell_type": "markdown",
   "metadata": {},
   "source": [
    "# Task 2 (2 points)\n",
    "\n",
    "Now you know the first best feature of the sample. In this task you need to find the second best feature. What are the names of these features?\n",
    "\n",
    "Hint: in **for** loop use **two** features to train the classifier. One of the two features is the found best feature from Task 1, the second feature is a new one. "
   ]
  },
  {
   "cell_type": "code",
   "execution_count": 8,
   "metadata": {},
   "outputs": [
    {
     "name": "stdout",
     "output_type": "stream",
     "text": [
      "meanfreq : 0.9438131313131313\n",
      "sd : 0.9513888888888888\n",
      "median : 0.9362373737373737\n",
      "Q25 : 0.9526515151515151\n",
      "Q75 : 0.9602272727272727\n",
      "IQR : 0.9602272727272727\n",
      "skew : 0.9463383838383839\n",
      "kurt : 0.9431818181818182\n",
      "sp.ent : 0.9431818181818182\n",
      "sfm : 0.9393939393939394\n",
      "mode : 0.9501262626262627\n",
      "centroid : 0.9438131313131313\n",
      "minfun : 0.9539141414141414\n",
      "maxfun : 0.9406565656565656\n",
      "meandom : 0.9362373737373737\n",
      "mindom : 0.9507575757575758\n",
      "maxdom : 0.9444444444444444\n",
      "dfrange : 0.9431818181818182\n",
      "modindx : 0.94760101010101\n",
      "Best features are Q75, IQR\n"
     ]
    }
   ],
   "source": [
    "top_features = [0 for i in range(len(feature_names))]\n",
    "\n",
    "for i in range(len(feature_names)):\n",
    "    if i not in best_features:\n",
    "        clf.fit(X_train[:, best_features + [i]], y_train)\n",
    "        top_features[i] = clf.score(X_test[:, best_features + [i]], y_test)\n",
    "        print(feature_names[i], \":\", top_features[i])\n",
    "\n",
    "cur_best_features_labels = []\n",
    "for i in range(len(feature_names)):\n",
    "    if top_features[i] == np.max(top_features):\n",
    "            cur_best_features_labels.append(feature_names[i])\n",
    "        \n",
    "print('Best features are', \", \".join(cur_best_features_labels)) \n",
    "\n",
    "best_features.append(np.argmax(top_features))"
   ]
  },
  {
   "cell_type": "markdown",
   "metadata": {},
   "source": [
    "# Task 3 (4 points)\n",
    "\n",
    "Great! As you can guess, now your task is to find the best 3 features, the best 4 features, ...., the best 20 features :) Use the silimilar approach as in Task 2.\n",
    "\n",
    "For the each N best features calculate the classification accuracy. Plot dependency of the accuracy from N. Print list of the following pairs of values: (Name of the N-th best feature, accuracy).\n",
    "\n",
    "The output example:"
   ]
  },
  {
   "cell_type": "code",
   "execution_count": 9,
   "metadata": {},
   "outputs": [
    {
     "name": "stdout",
     "output_type": "stream",
     "text": [
      "For  1  features have accuracy  0.9349747474747475\n",
      "For  2  features have accuracy  0.9602272727272727\n",
      "For  3  features have accuracy  0.9703282828282829\n",
      "For  4  features have accuracy  0.9715909090909091\n",
      "For  5  features have accuracy  0.9715909090909091\n",
      "For  6  features have accuracy  0.9728535353535354\n",
      "For  7  features have accuracy  0.9734848484848485\n",
      "For  8  features have accuracy  0.9722222222222222\n",
      "For  9  features have accuracy  0.9722222222222222\n",
      "For  10  features have accuracy  0.9696969696969697\n",
      "For  11  features have accuracy  0.9703282828282829\n",
      "For  12  features have accuracy  0.9715909090909091\n",
      "For  13  features have accuracy  0.9709595959595959\n",
      "For  14  features have accuracy  0.9703282828282829\n",
      "For  15  features have accuracy  0.9722222222222222\n",
      "For  16  features have accuracy  0.9715909090909091\n",
      "For  17  features have accuracy  0.9703282828282829\n",
      "For  18  features have accuracy  0.9703282828282829\n",
      "For  19  features have accuracy  0.9690656565656566\n",
      "For  20  features have accuracy  0.9690656565656566\n"
     ]
    },
    {
     "data": {
      "image/png": "[encoded data removed]",
      "text/plain": [
       "<Figure size 648x432 with 1 Axes>"
      ]
     },
     "metadata": {
      "needs_background": "light"
     },
     "output_type": "display_data"
    }
   ],
   "source": [
    "n_best_features = np.arange(1, 21)\n",
    "n_best_names = feature_names # You need to find the correct order\n",
    "n_best_accuracies = np.random.rand(20) # You need to calculate these accuracies\n",
    "\n",
    "best_features = []\n",
    "for k in n_best_features:\n",
    "    top_features = [0 for i in range(len(feature_names))]\n",
    "    for i in range(len(feature_names)):\n",
    "        if i not in best_features:\n",
    "            clf.fit(X_train[:, best_features + [i]], y_train)\n",
    "            top_features[i] = clf.score(X_test[:, best_features + [i]], y_test)\n",
    "    n_best_accuracies[k-1] = np.max(top_features)        \n",
    "    best_features.append(np.argmax(top_features))\n",
    "        \n",
    "    print('For ', k, ' features have accuracy ', np.max(top_features))\n",
    "    \n",
    "n_best_names = feature_names[best_features]    \n",
    "plt.figure(figsize=(9, 6))\n",
    "plt.plot(n_best_features, n_best_accuracies, color='b', linewidth=3)\n",
    "plt.xticks(n_best_features, size=14)\n",
    "plt.xlabel(\"N best features\", size=14)\n",
    "plt.yticks(size=14)\n",
    "plt.ylabel(\"Accuracy\", size=14)\n",
    "plt.grid(b=1)\n",
    "plt.show()"
   ]
  },
  {
   "cell_type": "code",
   "execution_count": 10,
   "metadata": {},
   "outputs": [
    {
     "data": {
      "text/html": [
       "<div>\n",
       "<style scoped>\n",
       "    .dataframe tbody tr th:only-of-type {\n",
       "        vertical-align: middle;\n",
       "    }\n",
       "\n",
       "    .dataframe tbody tr th {\n",
       "        vertical-align: top;\n",
       "    }\n",
       "\n",
       "    .dataframe thead th {\n",
       "        text-align: right;\n",
       "    }\n",
       "</style>\n",
       "<table border=\"1\" class=\"dataframe\">\n",
       "  <thead>\n",
       "    <tr style=\"text-align: right;\">\n",
       "      <th></th>\n",
       "      <th>Name</th>\n",
       "      <th>Accuracy</th>\n",
       "    </tr>\n",
       "  </thead>\n",
       "  <tbody>\n",
       "    <tr>\n",
       "      <th>0</th>\n",
       "      <td>meanfun</td>\n",
       "      <td>0.934975</td>\n",
       "    </tr>\n",
       "    <tr>\n",
       "      <th>1</th>\n",
       "      <td>Q75</td>\n",
       "      <td>0.960227</td>\n",
       "    </tr>\n",
       "    <tr>\n",
       "      <th>2</th>\n",
       "      <td>IQR</td>\n",
       "      <td>0.970328</td>\n",
       "    </tr>\n",
       "    <tr>\n",
       "      <th>3</th>\n",
       "      <td>sp.ent</td>\n",
       "      <td>0.971591</td>\n",
       "    </tr>\n",
       "    <tr>\n",
       "      <th>4</th>\n",
       "      <td>minfun</td>\n",
       "      <td>0.971591</td>\n",
       "    </tr>\n",
       "    <tr>\n",
       "      <th>5</th>\n",
       "      <td>mode</td>\n",
       "      <td>0.972854</td>\n",
       "    </tr>\n",
       "    <tr>\n",
       "      <th>6</th>\n",
       "      <td>kurt</td>\n",
       "      <td>0.973485</td>\n",
       "    </tr>\n",
       "    <tr>\n",
       "      <th>7</th>\n",
       "      <td>skew</td>\n",
       "      <td>0.972222</td>\n",
       "    </tr>\n",
       "    <tr>\n",
       "      <th>8</th>\n",
       "      <td>maxfun</td>\n",
       "      <td>0.972222</td>\n",
       "    </tr>\n",
       "    <tr>\n",
       "      <th>9</th>\n",
       "      <td>mindom</td>\n",
       "      <td>0.969697</td>\n",
       "    </tr>\n",
       "    <tr>\n",
       "      <th>10</th>\n",
       "      <td>Q25</td>\n",
       "      <td>0.970328</td>\n",
       "    </tr>\n",
       "    <tr>\n",
       "      <th>11</th>\n",
       "      <td>meanfreq</td>\n",
       "      <td>0.971591</td>\n",
       "    </tr>\n",
       "    <tr>\n",
       "      <th>12</th>\n",
       "      <td>sd</td>\n",
       "      <td>0.970960</td>\n",
       "    </tr>\n",
       "    <tr>\n",
       "      <th>13</th>\n",
       "      <td>sfm</td>\n",
       "      <td>0.970328</td>\n",
       "    </tr>\n",
       "    <tr>\n",
       "      <th>14</th>\n",
       "      <td>median</td>\n",
       "      <td>0.972222</td>\n",
       "    </tr>\n",
       "    <tr>\n",
       "      <th>15</th>\n",
       "      <td>centroid</td>\n",
       "      <td>0.971591</td>\n",
       "    </tr>\n",
       "    <tr>\n",
       "      <th>16</th>\n",
       "      <td>maxdom</td>\n",
       "      <td>0.970328</td>\n",
       "    </tr>\n",
       "    <tr>\n",
       "      <th>17</th>\n",
       "      <td>meandom</td>\n",
       "      <td>0.970328</td>\n",
       "    </tr>\n",
       "    <tr>\n",
       "      <th>18</th>\n",
       "      <td>dfrange</td>\n",
       "      <td>0.969066</td>\n",
       "    </tr>\n",
       "    <tr>\n",
       "      <th>19</th>\n",
       "      <td>modindx</td>\n",
       "      <td>0.969066</td>\n",
       "    </tr>\n",
       "  </tbody>\n",
       "</table>\n",
       "</div>"
      ],
      "text/plain": [
       "        Name  Accuracy\n",
       "0    meanfun  0.934975\n",
       "1        Q75  0.960227\n",
       "2        IQR  0.970328\n",
       "3     sp.ent  0.971591\n",
       "4     minfun  0.971591\n",
       "5       mode  0.972854\n",
       "6       kurt  0.973485\n",
       "7       skew  0.972222\n",
       "8     maxfun  0.972222\n",
       "9     mindom  0.969697\n",
       "10       Q25  0.970328\n",
       "11  meanfreq  0.971591\n",
       "12        sd  0.970960\n",
       "13       sfm  0.970328\n",
       "14    median  0.972222\n",
       "15  centroid  0.971591\n",
       "16    maxdom  0.970328\n",
       "17   meandom  0.970328\n",
       "18   dfrange  0.969066\n",
       "19   modindx  0.969066"
      ]
     },
     "execution_count": 10,
     "metadata": {},
     "output_type": "execute_result"
    }
   ],
   "source": [
    "report = pd.DataFrame()\n",
    "report['Name'] = n_best_names\n",
    "report['Accuracy'] = n_best_accuracies\n",
    "report"
   ]
  },
  {
   "cell_type": "markdown",
   "metadata": {},
   "source": [
    "# Task 4 (2 points)\n",
    "\n",
    "Well, now let's use PCA. Plot the dependency of the classification accuracy from the number of components of PCA. Vary the number of components from 1 to 20. Do you have the same accuracies for one PCA component and for the first best feature from Task 1? How do you explain it?\n",
    "\n",
    "The output example:"
   ]
  },
  {
   "cell_type": "code",
   "execution_count": 11,
   "metadata": {},
   "outputs": [
    {
     "data": {
      "image/png": "[encoded data removed]",
      "text/plain": [
       "<Figure size 648x432 with 1 Axes>"
      ]
     },
     "metadata": {
      "needs_background": "light"
     },
     "output_type": "display_data"
    }
   ],
   "source": [
    "from sklearn.decomposition import PCA\n",
    "\n",
    "pca_components = np.arange(1, 21)\n",
    "pca_accuracies = np.random.rand(20) # You need to calculate these accuracies\n",
    "\n",
    "for pca_num in pca_components:\n",
    "    pc = PCA(n_components=pca_num, random_state=42)\n",
    "    transformed_train = pc.fit_transform(X_train)\n",
    "    transformed_test = pc.transform(X_test)\n",
    "    clf.fit(transformed_train, y_train)\n",
    "    pca_accuracies[pca_num-1] = clf.score(transformed_test, y_test)\n",
    "    \n",
    "\n",
    "plt.figure(figsize=(9, 6))\n",
    "plt.plot(pca_components, pca_accuracies, color='b', linewidth=3)\n",
    "plt.xticks(pca_components, size=14)\n",
    "plt.xlabel(\"N components of PCA\", size=14)\n",
    "plt.yticks(size=14)\n",
    "plt.ylabel(\"Accuracy\", size=14)\n",
    "plt.grid(b=1)\n",
    "plt.show()"
   ]
  },
  {
   "cell_type": "markdown",
   "metadata": {},
   "source": [
    "##### PCA works significantly worse than original data. As for the first feature, in Task 1 we selected the best we could - and in PCA we try to count all the features, so it's just a small number of dimensions. Also for the other nums it might be just too little number of them - and for hundreds of features PCA will work greatly, cause for 20 features and close to it PCA may destroy some similarities - cause every feature matters."
   ]
  },
  {
   "cell_type": "markdown",
   "metadata": {},
   "source": [
    "# Task 5 (1 point)\n",
    "\n",
    "Plot explained variance and cumulative explained variance for the PCA at every number of components."
   ]
  },
  {
   "cell_type": "code",
   "execution_count": 12,
   "metadata": {},
   "outputs": [
    {
     "data": {
      "image/png": "[encoded data removed]",
      "text/plain": [
       "<Figure size 648x432 with 1 Axes>"
      ]
     },
     "metadata": {
      "needs_background": "light"
     },
     "output_type": "display_data"
    }
   ],
   "source": [
    "plt.figure(figsize=(9, 6))\n",
    "plt.plot(pca_components, pc.explained_variance_, color='b', linewidth=3)\n",
    "plt.xticks(pca_components, size=14)\n",
    "plt.xlabel(\"N components of PCA\", size=14)\n",
    "plt.yticks(size=14)\n",
    "plt.ylabel(\"Explained variance\", size=14)\n",
    "plt.grid(b=1)\n",
    "plt.show()"
   ]
  },
  {
   "cell_type": "code",
   "execution_count": 13,
   "metadata": {},
   "outputs": [
    {
     "data": {
      "image/png": "[encoded data removed]",
      "text/plain": [
       "<Figure size 648x432 with 1 Axes>"
      ]
     },
     "metadata": {
      "needs_background": "light"
     },
     "output_type": "display_data"
    }
   ],
   "source": [
    "plt.figure(figsize=(9, 6))\n",
    "plt.plot(pca_components, np.cumsum(pc.explained_variance_), color='b', linewidth=3)\n",
    "plt.xticks(pca_components, size=14)\n",
    "plt.xlabel(\"N components of PCA\", size=14)\n",
    "plt.yticks(size=14)\n",
    "plt.ylabel(\"Cumilative explained variance\", size=14)\n",
    "plt.grid(b=1)\n",
    "plt.show()"
   ]
  },
  {
   "cell_type": "code",
   "execution_count": null,
   "metadata": {},
   "outputs": [],
   "source": []
  }
 ],
 "metadata": {
  "kernelspec": {
   "display_name": "Python 3",
   "language": "python",
   "name": "python3"
  },
  "language_info": {
   "codemirror_mode": {
    "name": "ipython",
    "version": 3
   },
   "file_extension": ".py",
   "mimetype": "text/x-python",
   "name": "python",
   "nbconvert_exporter": "python",
   "pygments_lexer": "ipython3",
   "version": "3.6.7"
  }
 },
 "nbformat": 4,
 "nbformat_minor": 2
}
